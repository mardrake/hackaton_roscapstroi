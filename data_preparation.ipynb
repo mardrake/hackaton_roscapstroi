{
 "cells": [
  {
   "cell_type": "code",
   "execution_count": null,
   "metadata": {},
   "outputs": [],
   "source": [
    "!pip install demoji\n",
    "!pip install spacy\n",
    "!pip install razdel\n",
    "!pip install natasha\n",
    "!python -m spacy download ru_core_news_lg"
   ]
  },
  {
   "cell_type": "code",
   "execution_count": 3,
   "metadata": {
    "id": "ZnEWM5wS9rd7",
    "tags": []
   },
   "outputs": [],
   "source": [
    "import spacy\n",
    "import pandas as pd\n",
    "import demoji"
   ]
  },
  {
   "cell_type": "code",
   "execution_count": 4,
   "metadata": {
    "colab": {
     "base_uri": "https://localhost:8080/"
    },
    "id": "Ri5CNO2Y1Wte",
    "outputId": "0409cd1d-76e2-4842-c332-85a825a1ee6d",
    "tags": []
   },
   "outputs": [],
   "source": [
    "import re\n",
    "import string\n",
    "import nltk\n",
    "# nltk.download('punkt')\n",
    "# nltk.download('stopwords')\n",
    "# nltk.download('wordnet')\n",
    "from nltk.corpus import stopwords\n",
    "from nltk.stem import WordNetLemmatizer\n",
    "from natasha import Segmenter\n",
    "from razdel import sentenize\n"
   ]
  },
  {
   "cell_type": "code",
   "execution_count": 21,
   "metadata": {
    "id": "XjIpcDIKU-51",
    "tags": []
   },
   "outputs": [],
   "source": [
    "df = pd.read_excel('/home/user/Загрузки/train_dataset_Минстрой(1)/Датасет.xlsx', sheet_name='Лист1')"
   ]
  },
  {
   "cell_type": "code",
   "execution_count": 22,
   "metadata": {
    "id": "dpiuX5wFXqWa",
    "tags": []
   },
   "outputs": [],
   "source": [
    "df1 = df.copy()"
   ]
  },
  {
   "cell_type": "code",
   "execution_count": 23,
   "metadata": {
    "colab": {
     "base_uri": "https://localhost:8080/",
     "height": 239
    },
    "id": "2m7MddAfWHYr",
    "outputId": "6c78fb50-17a7-4b97-b6a7-a69809a13945",
    "tags": []
   },
   "outputs": [
    {
     "data": {
      "text/html": [
       "<div>\n",
       "<style scoped>\n",
       "    .dataframe tbody tr th:only-of-type {\n",
       "        vertical-align: middle;\n",
       "    }\n",
       "\n",
       "    .dataframe tbody tr th {\n",
       "        vertical-align: top;\n",
       "    }\n",
       "\n",
       "    .dataframe thead th {\n",
       "        text-align: right;\n",
       "    }\n",
       "</style>\n",
       "<table border=\"1\" class=\"dataframe\">\n",
       "  <thead>\n",
       "    <tr style=\"text-align: right;\">\n",
       "      <th></th>\n",
       "      <th>id</th>\n",
       "      <th>name(название)</th>\n",
       "      <th>responsibilities(Должностные обязанности)</th>\n",
       "      <th>requirements(Требования к соискателю)</th>\n",
       "      <th>terms(Условия)</th>\n",
       "    </tr>\n",
       "  </thead>\n",
       "  <tbody>\n",
       "    <tr>\n",
       "      <th>0</th>\n",
       "      <td>9495846</td>\n",
       "      <td>Арматурщик</td>\n",
       "      <td>Работа на строительных площадках. Очистных соо...</td>\n",
       "      <td>NaN</td>\n",
       "      <td>NaN</td>\n",
       "    </tr>\n",
       "    <tr>\n",
       "      <th>1</th>\n",
       "      <td>9495850</td>\n",
       "      <td>Арматурщик</td>\n",
       "      <td>Гнутье арматурной стали на механических станка...</td>\n",
       "      <td>NaN</td>\n",
       "      <td>NaN</td>\n",
       "    </tr>\n",
       "    <tr>\n",
       "      <th>2</th>\n",
       "      <td>9495851</td>\n",
       "      <td>Арматурщик</td>\n",
       "      <td>Вязка арматуры.</td>\n",
       "      <td>NaN</td>\n",
       "      <td>NaN</td>\n",
       "    </tr>\n",
       "  </tbody>\n",
       "</table>\n",
       "</div>"
      ],
      "text/plain": [
       "        id name(название)          responsibilities(Должностные обязанности)  \\\n",
       "0  9495846     Арматурщик  Работа на строительных площадках. Очистных соо...   \n",
       "1  9495850     Арматурщик  Гнутье арматурной стали на механических станка...   \n",
       "2  9495851     Арматурщик                                    Вязка арматуры.   \n",
       "\n",
       "  requirements(Требования к соискателю) terms(Условия)  \n",
       "0                                   NaN            NaN  \n",
       "1                                   NaN            NaN  \n",
       "2                                   NaN            NaN  "
      ]
     },
     "execution_count": 23,
     "metadata": {},
     "output_type": "execute_result"
    }
   ],
   "source": [
    "# df.iloc[:, [3,4,5]]\n",
    "df1 = df1[['id', 'name(название)', 'responsibilities(Должностные обязанности)', 'requirements(Требования к соискателю)', 'terms(Условия)']]\n",
    "df1.head(3)\n"
   ]
  },
  {
   "cell_type": "code",
   "execution_count": 24,
   "metadata": {
    "id": "OvcmXrh2c4Ua",
    "tags": []
   },
   "outputs": [],
   "source": [
    "# Заполнение пропусков\n",
    "df1 = df1.fillna('***')"
   ]
  },
  {
   "cell_type": "code",
   "execution_count": 25,
   "metadata": {
    "colab": {
     "base_uri": "https://localhost:8080/"
    },
    "id": "ZHFk5OiBaFMu",
    "outputId": "b7367eac-8ce4-4544-884a-b0110010b1d4",
    "tags": []
   },
   "outputs": [
    {
     "name": "stdout",
     "output_type": "stream",
     "text": [
      "<class 'pandas.core.frame.DataFrame'>\n",
      "RangeIndex: 999 entries, 0 to 998\n",
      "Data columns (total 5 columns):\n",
      " #   Column                                     Non-Null Count  Dtype \n",
      "---  ------                                     --------------  ----- \n",
      " 0   id                                         999 non-null    int64 \n",
      " 1   name(название)                             999 non-null    object\n",
      " 2   responsibilities(Должностные обязанности)  999 non-null    object\n",
      " 3   requirements(Требования к соискателю)      999 non-null    object\n",
      " 4   terms(Условия)                             999 non-null    object\n",
      "dtypes: int64(1), object(4)\n",
      "memory usage: 39.1+ KB\n"
     ]
    }
   ],
   "source": [
    "df1.info()"
   ]
  },
  {
   "cell_type": "code",
   "execution_count": 26,
   "metadata": {
    "id": "uoJ89QD4ax5Q",
    "tags": []
   },
   "outputs": [],
   "source": [
    "# Преобразование к строковому типу и удаление лишних пробелов в начале и конце строки\n",
    "for col in df1.columns:\n",
    "  df1[col] = df1[col].astype(str)\n",
    "  df1[col] = df1[col].apply(lambda x: x.strip())\n",
    "  df1[col] = df1[col].apply(lambda x: ' '.join(x.split()))\n",
    "  df1[col] = df1[col].str.replace('- ', '')"
   ]
  },
  {
   "cell_type": "code",
   "execution_count": 27,
   "metadata": {
    "id": "ET6NTO1p5Acq",
    "tags": []
   },
   "outputs": [],
   "source": [
    "# Заменяем эмоджи на точки\n",
    "def remove_emoji(text):\n",
    "    return demoji.replace(text, '.')"
   ]
  },
  {
   "cell_type": "code",
   "execution_count": 28,
   "metadata": {
    "id": "YksUSzD7QiK1",
    "tags": []
   },
   "outputs": [],
   "source": [
    "for col in df1.columns:\n",
    "  df1[col] = df1[col].apply(remove_emoji)\n",
    "  # убираем точки в начале строки\n",
    "  df1[col] = df1[col].apply(lambda x: x if x[0] !='.' else x[1:])"
   ]
  },
  {
   "cell_type": "code",
   "execution_count": 29,
   "metadata": {
    "colab": {
     "base_uri": "https://localhost:8080/",
     "height": 337
    },
    "id": "EW8rlihIYio2",
    "outputId": "09a9f873-780e-44db-8a65-10f4bc79a880",
    "tags": []
   },
   "outputs": [
    {
     "data": {
      "text/html": [
       "<div>\n",
       "<style scoped>\n",
       "    .dataframe tbody tr th:only-of-type {\n",
       "        vertical-align: middle;\n",
       "    }\n",
       "\n",
       "    .dataframe tbody tr th {\n",
       "        vertical-align: top;\n",
       "    }\n",
       "\n",
       "    .dataframe thead th {\n",
       "        text-align: right;\n",
       "    }\n",
       "</style>\n",
       "<table border=\"1\" class=\"dataframe\">\n",
       "  <thead>\n",
       "    <tr style=\"text-align: right;\">\n",
       "      <th></th>\n",
       "      <th>id</th>\n",
       "      <th>name(название)</th>\n",
       "      <th>responsibilities(Должностные обязанности)</th>\n",
       "      <th>requirements(Требования к соискателю)</th>\n",
       "      <th>terms(Условия)</th>\n",
       "    </tr>\n",
       "  </thead>\n",
       "  <tbody>\n",
       "    <tr>\n",
       "      <th>0</th>\n",
       "      <td>9495846</td>\n",
       "      <td>Арматурщик</td>\n",
       "      <td>Работа на строительных площадках. Очистных соо...</td>\n",
       "      <td>***</td>\n",
       "      <td>***</td>\n",
       "    </tr>\n",
       "    <tr>\n",
       "      <th>1</th>\n",
       "      <td>9495850</td>\n",
       "      <td>Арматурщик</td>\n",
       "      <td>Гнутье арматурной стали на механических станка...</td>\n",
       "      <td>***</td>\n",
       "      <td>***</td>\n",
       "    </tr>\n",
       "    <tr>\n",
       "      <th>2</th>\n",
       "      <td>9495851</td>\n",
       "      <td>Арматурщик</td>\n",
       "      <td>Вязка арматуры.</td>\n",
       "      <td>***</td>\n",
       "      <td>***</td>\n",
       "    </tr>\n",
       "    <tr>\n",
       "      <th>3</th>\n",
       "      <td>2</td>\n",
       "      <td>Арматурщик</td>\n",
       "      <td>Выполнение работ по гнутью и резке арматурной ...</td>\n",
       "      <td>Выполнение работ по гнутью и резке арматурной ...</td>\n",
       "      <td>***</td>\n",
       "    </tr>\n",
       "    <tr>\n",
       "      <th>4</th>\n",
       "      <td>9388857</td>\n",
       "      <td>Арматурщик</td>\n",
       "      <td>Вахта в город Москва. Обязанности: армирование...</td>\n",
       "      <td>опыт в строительстве приветствуется; работа в ...</td>\n",
       "      <td>продолжительность вахты 60/30 (продление вахты...</td>\n",
       "    </tr>\n",
       "  </tbody>\n",
       "</table>\n",
       "</div>"
      ],
      "text/plain": [
       "        id name(название)          responsibilities(Должностные обязанности)  \\\n",
       "0  9495846     Арматурщик  Работа на строительных площадках. Очистных соо...   \n",
       "1  9495850     Арматурщик  Гнутье арматурной стали на механических станка...   \n",
       "2  9495851     Арматурщик                                    Вязка арматуры.   \n",
       "3        2     Арматурщик  Выполнение работ по гнутью и резке арматурной ...   \n",
       "4  9388857     Арматурщик  Вахта в город Москва. Обязанности: армирование...   \n",
       "\n",
       "               requirements(Требования к соискателю)  \\\n",
       "0                                                ***   \n",
       "1                                                ***   \n",
       "2                                                ***   \n",
       "3  Выполнение работ по гнутью и резке арматурной ...   \n",
       "4  опыт в строительстве приветствуется; работа в ...   \n",
       "\n",
       "                                      terms(Условия)  \n",
       "0                                                ***  \n",
       "1                                                ***  \n",
       "2                                                ***  \n",
       "3                                                ***  \n",
       "4  продолжительность вахты 60/30 (продление вахты...  "
      ]
     },
     "execution_count": 29,
     "metadata": {},
     "output_type": "execute_result"
    }
   ],
   "source": [
    "df1.head()"
   ]
  },
  {
   "cell_type": "code",
   "execution_count": 30,
   "metadata": {
    "id": "pJtRsBJxwX3v",
    "tags": []
   },
   "outputs": [],
   "source": [
    "# Удаление информации из колонки, которая есть в других колонках\n",
    "def remove_text(source, target1, target2):\n",
    "  text = source.replace(target1, '').replace(target2, '')\n",
    "  text =  '***' if text == '' else text\n",
    "  text = text if text[0] !='.' else text[1:]\n",
    "  return text"
   ]
  },
  {
   "cell_type": "code",
   "execution_count": 31,
   "metadata": {
    "id": "tvqlKwOYd8Bk",
    "tags": []
   },
   "outputs": [],
   "source": [
    "df1['responsibilities'] = df1.apply(lambda x: remove_text(x['responsibilities(Должностные обязанности)'], x['requirements(Требования к соискателю)'], x['terms(Условия)']), axis = 1).astype(str)"
   ]
  },
  {
   "cell_type": "code",
   "execution_count": 32,
   "metadata": {
    "colab": {
     "base_uri": "https://localhost:8080/",
     "height": 458
    },
    "id": "ZEQ0BWibjRS6",
    "outputId": "ea8124c8-f1d4-485b-f2c2-344d286955b9",
    "tags": []
   },
   "outputs": [
    {
     "data": {
      "text/html": [
       "<div>\n",
       "<style scoped>\n",
       "    .dataframe tbody tr th:only-of-type {\n",
       "        vertical-align: middle;\n",
       "    }\n",
       "\n",
       "    .dataframe tbody tr th {\n",
       "        vertical-align: top;\n",
       "    }\n",
       "\n",
       "    .dataframe thead th {\n",
       "        text-align: right;\n",
       "    }\n",
       "</style>\n",
       "<table border=\"1\" class=\"dataframe\">\n",
       "  <thead>\n",
       "    <tr style=\"text-align: right;\">\n",
       "      <th></th>\n",
       "      <th>id</th>\n",
       "      <th>name(название)</th>\n",
       "      <th>responsibilities(Должностные обязанности)</th>\n",
       "      <th>requirements(Требования к соискателю)</th>\n",
       "      <th>terms(Условия)</th>\n",
       "      <th>responsibilities</th>\n",
       "    </tr>\n",
       "  </thead>\n",
       "  <tbody>\n",
       "    <tr>\n",
       "      <th>0</th>\n",
       "      <td>9495846</td>\n",
       "      <td>Арматурщик</td>\n",
       "      <td>Работа на строительных площадках. Очистных соо...</td>\n",
       "      <td>***</td>\n",
       "      <td>***</td>\n",
       "      <td>Работа на строительных площадках. Очистных соо...</td>\n",
       "    </tr>\n",
       "    <tr>\n",
       "      <th>1</th>\n",
       "      <td>9495850</td>\n",
       "      <td>Арматурщик</td>\n",
       "      <td>Гнутье арматурной стали на механических станка...</td>\n",
       "      <td>***</td>\n",
       "      <td>***</td>\n",
       "      <td>Гнутье арматурной стали на механических станка...</td>\n",
       "    </tr>\n",
       "    <tr>\n",
       "      <th>2</th>\n",
       "      <td>9495851</td>\n",
       "      <td>Арматурщик</td>\n",
       "      <td>Вязка арматуры.</td>\n",
       "      <td>***</td>\n",
       "      <td>***</td>\n",
       "      <td>Вязка арматуры.</td>\n",
       "    </tr>\n",
       "    <tr>\n",
       "      <th>3</th>\n",
       "      <td>2</td>\n",
       "      <td>Арматурщик</td>\n",
       "      <td>Выполнение работ по гнутью и резке арматурной ...</td>\n",
       "      <td>Выполнение работ по гнутью и резке арматурной ...</td>\n",
       "      <td>***</td>\n",
       "      <td>Выполнение работ по сборке и вязке арматурных...</td>\n",
       "    </tr>\n",
       "    <tr>\n",
       "      <th>4</th>\n",
       "      <td>9388857</td>\n",
       "      <td>Арматурщик</td>\n",
       "      <td>Вахта в город Москва. Обязанности: армирование...</td>\n",
       "      <td>опыт в строительстве приветствуется; работа в ...</td>\n",
       "      <td>продолжительность вахты 60/30 (продление вахты...</td>\n",
       "      <td>Вахта в город Москва. Обязанности: армирование...</td>\n",
       "    </tr>\n",
       "  </tbody>\n",
       "</table>\n",
       "</div>"
      ],
      "text/plain": [
       "        id name(название)          responsibilities(Должностные обязанности)  \\\n",
       "0  9495846     Арматурщик  Работа на строительных площадках. Очистных соо...   \n",
       "1  9495850     Арматурщик  Гнутье арматурной стали на механических станка...   \n",
       "2  9495851     Арматурщик                                    Вязка арматуры.   \n",
       "3        2     Арматурщик  Выполнение работ по гнутью и резке арматурной ...   \n",
       "4  9388857     Арматурщик  Вахта в город Москва. Обязанности: армирование...   \n",
       "\n",
       "               requirements(Требования к соискателю)  \\\n",
       "0                                                ***   \n",
       "1                                                ***   \n",
       "2                                                ***   \n",
       "3  Выполнение работ по гнутью и резке арматурной ...   \n",
       "4  опыт в строительстве приветствуется; работа в ...   \n",
       "\n",
       "                                      terms(Условия)  \\\n",
       "0                                                ***   \n",
       "1                                                ***   \n",
       "2                                                ***   \n",
       "3                                                ***   \n",
       "4  продолжительность вахты 60/30 (продление вахты...   \n",
       "\n",
       "                                    responsibilities  \n",
       "0  Работа на строительных площадках. Очистных соо...  \n",
       "1  Гнутье арматурной стали на механических станка...  \n",
       "2                                    Вязка арматуры.  \n",
       "3   Выполнение работ по сборке и вязке арматурных...  \n",
       "4  Вахта в город Москва. Обязанности: армирование...  "
      ]
     },
     "execution_count": 32,
     "metadata": {},
     "output_type": "execute_result"
    }
   ],
   "source": [
    "df1.head()"
   ]
  },
  {
   "cell_type": "code",
   "execution_count": 33,
   "metadata": {
    "id": "sDqlg9sBQscu",
    "tags": []
   },
   "outputs": [],
   "source": [
    "# Ставим точки перед словами с большой буквы\n",
    "def dotted_text(text):\n",
    "  pattern1 = r'(?<=\\s)([А-ЯЁ][а-яё]*)'   # re.findall('[А-Я][а-я]+', s)\n",
    "  pattern2 = r'\\. \\.'\n",
    "  replacement1 = r'.\\1'\n",
    "  replacement2 = r'. '\n",
    "  text1 = re.sub(pattern1, replacement1, text)\n",
    "  text2 = re.sub(pattern2, replacement2, text1)\n",
    "  return text2"
   ]
  },
  {
   "cell_type": "code",
   "execution_count": 34,
   "metadata": {
    "id": "adQEOeizhcfE",
    "tags": []
   },
   "outputs": [],
   "source": [
    "for col in df1.columns:\n",
    "  df1[col] = df1[col].apply(lambda x: dotted_text(x))\n",
    "  df1[col] = df1[col].apply(lambda text: '***' if text == '' else text)\n",
    "  df1[col] = df1[col].apply(lambda text: text if text[0] !='.' else text[1:])\n",
    "  # df1[col].replace(': \\.| \\.', '. ', regex=True, inplace=True)\n",
    "  # df1[col].replace('•', '', inplace=True)"
   ]
  },
  {
   "cell_type": "code",
   "execution_count": 35,
   "metadata": {
    "colab": {
     "base_uri": "https://localhost:8080/",
     "height": 458
    },
    "id": "Qj6lUnMoNT-e",
    "outputId": "693e1569-a8c2-4a85-bb77-bdc8c4221d1f",
    "tags": []
   },
   "outputs": [
    {
     "data": {
      "text/html": [
       "<div>\n",
       "<style scoped>\n",
       "    .dataframe tbody tr th:only-of-type {\n",
       "        vertical-align: middle;\n",
       "    }\n",
       "\n",
       "    .dataframe tbody tr th {\n",
       "        vertical-align: top;\n",
       "    }\n",
       "\n",
       "    .dataframe thead th {\n",
       "        text-align: right;\n",
       "    }\n",
       "</style>\n",
       "<table border=\"1\" class=\"dataframe\">\n",
       "  <thead>\n",
       "    <tr style=\"text-align: right;\">\n",
       "      <th></th>\n",
       "      <th>id</th>\n",
       "      <th>name(название)</th>\n",
       "      <th>responsibilities(Должностные обязанности)</th>\n",
       "      <th>requirements(Требования к соискателю)</th>\n",
       "      <th>terms(Условия)</th>\n",
       "      <th>responsibilities</th>\n",
       "    </tr>\n",
       "  </thead>\n",
       "  <tbody>\n",
       "    <tr>\n",
       "      <th>0</th>\n",
       "      <td>9495846</td>\n",
       "      <td>Арматурщик</td>\n",
       "      <td>Работа на строительных площадках. Очистных соо...</td>\n",
       "      <td>***</td>\n",
       "      <td>***</td>\n",
       "      <td>Работа на строительных площадках. Очистных соо...</td>\n",
       "    </tr>\n",
       "    <tr>\n",
       "      <th>1</th>\n",
       "      <td>9495850</td>\n",
       "      <td>Арматурщик</td>\n",
       "      <td>Гнутье арматурной стали на механических станка...</td>\n",
       "      <td>***</td>\n",
       "      <td>***</td>\n",
       "      <td>Гнутье арматурной стали на механических станка...</td>\n",
       "    </tr>\n",
       "    <tr>\n",
       "      <th>2</th>\n",
       "      <td>9495851</td>\n",
       "      <td>Арматурщик</td>\n",
       "      <td>Вязка арматуры.</td>\n",
       "      <td>***</td>\n",
       "      <td>***</td>\n",
       "      <td>Вязка арматуры.</td>\n",
       "    </tr>\n",
       "    <tr>\n",
       "      <th>3</th>\n",
       "      <td>2</td>\n",
       "      <td>Арматурщик</td>\n",
       "      <td>Выполнение работ по гнутью и резке арматурной ...</td>\n",
       "      <td>Выполнение работ по гнутью и резке арматурной ...</td>\n",
       "      <td>***</td>\n",
       "      <td>.Выполнение работ по сборке и вязке арматурны...</td>\n",
       "    </tr>\n",
       "    <tr>\n",
       "      <th>4</th>\n",
       "      <td>9388857</td>\n",
       "      <td>Арматурщик</td>\n",
       "      <td>Вахта в город .Москва. Обязанности: армировани...</td>\n",
       "      <td>опыт в строительстве приветствуется; работа в ...</td>\n",
       "      <td>продолжительность вахты 60/30 (продление вахты...</td>\n",
       "      <td>Вахта в город .Москва. Обязанности: армировани...</td>\n",
       "    </tr>\n",
       "  </tbody>\n",
       "</table>\n",
       "</div>"
      ],
      "text/plain": [
       "        id name(название)          responsibilities(Должностные обязанности)  \\\n",
       "0  9495846     Арматурщик  Работа на строительных площадках. Очистных соо...   \n",
       "1  9495850     Арматурщик  Гнутье арматурной стали на механических станка...   \n",
       "2  9495851     Арматурщик                                    Вязка арматуры.   \n",
       "3        2     Арматурщик  Выполнение работ по гнутью и резке арматурной ...   \n",
       "4  9388857     Арматурщик  Вахта в город .Москва. Обязанности: армировани...   \n",
       "\n",
       "               requirements(Требования к соискателю)  \\\n",
       "0                                                ***   \n",
       "1                                                ***   \n",
       "2                                                ***   \n",
       "3  Выполнение работ по гнутью и резке арматурной ...   \n",
       "4  опыт в строительстве приветствуется; работа в ...   \n",
       "\n",
       "                                      terms(Условия)  \\\n",
       "0                                                ***   \n",
       "1                                                ***   \n",
       "2                                                ***   \n",
       "3                                                ***   \n",
       "4  продолжительность вахты 60/30 (продление вахты...   \n",
       "\n",
       "                                    responsibilities  \n",
       "0  Работа на строительных площадках. Очистных соо...  \n",
       "1  Гнутье арматурной стали на механических станка...  \n",
       "2                                    Вязка арматуры.  \n",
       "3   .Выполнение работ по сборке и вязке арматурны...  \n",
       "4  Вахта в город .Москва. Обязанности: армировани...  "
      ]
     },
     "execution_count": 35,
     "metadata": {},
     "output_type": "execute_result"
    }
   ],
   "source": [
    "df1.head()"
   ]
  },
  {
   "cell_type": "code",
   "execution_count": 36,
   "metadata": {
    "id": "cNczGcBA-uHQ",
    "tags": []
   },
   "outputs": [],
   "source": [
    "df1.to_csv('/home/user/Загрузки/train_dataset_Минстрой(1)/df1.csv')"
   ]
  },
  {
   "cell_type": "code",
   "execution_count": null,
   "metadata": {},
   "outputs": [],
   "source": []
  }
 ],
 "metadata": {
  "colab": {
   "provenance": []
  },
  "kernelspec": {
   "display_name": "Python 3 (ipykernel)",
   "language": "python",
   "name": "python3"
  },
  "language_info": {
   "codemirror_mode": {
    "name": "ipython",
    "version": 3
   },
   "file_extension": ".py",
   "mimetype": "text/x-python",
   "name": "python",
   "nbconvert_exporter": "python",
   "pygments_lexer": "ipython3",
   "version": "3.8.16"
  }
 },
 "nbformat": 4,
 "nbformat_minor": 4
}
